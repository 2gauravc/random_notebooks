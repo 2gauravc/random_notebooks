{
  "nbformat": 4,
  "nbformat_minor": 0,
  "metadata": {
    "colab": {
      "provenance": [],
      "authorship_tag": "ABX9TyPf06nNFfjuqWEDSu8BL9ET",
      "include_colab_link": true
    },
    "kernelspec": {
      "name": "python3",
      "display_name": "Python 3"
    },
    "language_info": {
      "name": "python"
    }
  },
  "cells": [
    {
      "cell_type": "markdown",
      "metadata": {
        "id": "view-in-github",
        "colab_type": "text"
      },
      "source": [
        "<a href=\"https://colab.research.google.com/github/2gauravc/random_notebooks/blob/main/Hanane_Apr24_RAG_for_Fin_Analysis.ipynb\" target=\"_parent\"><img src=\"https://colab.research.google.com/assets/colab-badge.svg\" alt=\"Open In Colab\"/></a>"
      ]
    },
    {
      "cell_type": "code",
      "source": [
        "!pip install llama-index-llms-anthropic\n",
        "!pip install llama-index-embeddings-openai\n",
        "!pip install llama-index\n",
        "!pip install anthropic\n",
        "!pip install openai"
      ],
      "metadata": {
        "colab": {
          "base_uri": "https://localhost:8080/"
        },
        "id": "FYW270OSmpo4",
        "outputId": "b7f4f0b4-7249-4ea6-c7ba-324b972b19b7"
      },
      "execution_count": null,
      "outputs": [
        {
          "output_type": "stream",
          "name": "stdout",
          "text": [
            "Collecting llama-index-llms-anthropic\n",
            "  Downloading llama_index_llms_anthropic-0.6.4-py3-none-any.whl.metadata (5.8 kB)\n",
            "Collecting anthropic>=0.41.0 (from anthropic[bedrock,vertex]>=0.41.0->llama-index-llms-anthropic)\n",
            "  Downloading anthropic-0.45.0-py3-none-any.whl.metadata (23 kB)\n",
            "Collecting llama-index-core<0.13.0,>=0.12.5 (from llama-index-llms-anthropic)\n",
            "  Downloading llama_index_core-0.12.14-py3-none-any.whl.metadata (2.5 kB)\n",
            "Requirement already satisfied: anyio<5,>=3.5.0 in /usr/local/lib/python3.11/dist-packages (from anthropic>=0.41.0->anthropic[bedrock,vertex]>=0.41.0->llama-index-llms-anthropic) (3.7.1)\n",
            "Requirement already satisfied: distro<2,>=1.7.0 in /usr/local/lib/python3.11/dist-packages (from anthropic>=0.41.0->anthropic[bedrock,vertex]>=0.41.0->llama-index-llms-anthropic) (1.9.0)\n",
            "Requirement already satisfied: httpx<1,>=0.23.0 in /usr/local/lib/python3.11/dist-packages (from anthropic>=0.41.0->anthropic[bedrock,vertex]>=0.41.0->llama-index-llms-anthropic) (0.28.1)\n",
            "Requirement already satisfied: jiter<1,>=0.4.0 in /usr/local/lib/python3.11/dist-packages (from anthropic>=0.41.0->anthropic[bedrock,vertex]>=0.41.0->llama-index-llms-anthropic) (0.8.2)\n",
            "Requirement already satisfied: pydantic<3,>=1.9.0 in /usr/local/lib/python3.11/dist-packages (from anthropic>=0.41.0->anthropic[bedrock,vertex]>=0.41.0->llama-index-llms-anthropic) (2.10.5)\n",
            "Requirement already satisfied: sniffio in /usr/local/lib/python3.11/dist-packages (from anthropic>=0.41.0->anthropic[bedrock,vertex]>=0.41.0->llama-index-llms-anthropic) (1.3.1)\n",
            "Requirement already satisfied: typing-extensions<5,>=4.10 in /usr/local/lib/python3.11/dist-packages (from anthropic>=0.41.0->anthropic[bedrock,vertex]>=0.41.0->llama-index-llms-anthropic) (4.12.2)\n",
            "Collecting boto3>=1.28.57 (from anthropic[bedrock,vertex]>=0.41.0->llama-index-llms-anthropic)\n",
            "  Downloading boto3-1.36.6-py3-none-any.whl.metadata (6.6 kB)\n",
            "Collecting botocore>=1.31.57 (from anthropic[bedrock,vertex]>=0.41.0->llama-index-llms-anthropic)\n",
            "  Downloading botocore-1.36.6-py3-none-any.whl.metadata (5.7 kB)\n",
            "Requirement already satisfied: google-auth<3,>=2 in /usr/local/lib/python3.11/dist-packages (from anthropic[bedrock,vertex]>=0.41.0->llama-index-llms-anthropic) (2.27.0)\n",
            "Requirement already satisfied: PyYAML>=6.0.1 in /usr/local/lib/python3.11/dist-packages (from llama-index-core<0.13.0,>=0.12.5->llama-index-llms-anthropic) (6.0.2)\n",
            "Requirement already satisfied: SQLAlchemy>=1.4.49 in /usr/local/lib/python3.11/dist-packages (from SQLAlchemy[asyncio]>=1.4.49->llama-index-core<0.13.0,>=0.12.5->llama-index-llms-anthropic) (2.0.37)\n",
            "Requirement already satisfied: aiohttp<4.0.0,>=3.8.6 in /usr/local/lib/python3.11/dist-packages (from llama-index-core<0.13.0,>=0.12.5->llama-index-llms-anthropic) (3.11.11)\n",
            "Collecting dataclasses-json (from llama-index-core<0.13.0,>=0.12.5->llama-index-llms-anthropic)\n",
            "  Downloading dataclasses_json-0.6.7-py3-none-any.whl.metadata (25 kB)\n",
            "Requirement already satisfied: deprecated>=1.2.9.3 in /usr/local/lib/python3.11/dist-packages (from llama-index-core<0.13.0,>=0.12.5->llama-index-llms-anthropic) (1.2.15)\n",
            "Collecting dirtyjson<2.0.0,>=1.0.8 (from llama-index-core<0.13.0,>=0.12.5->llama-index-llms-anthropic)\n",
            "  Downloading dirtyjson-1.0.8-py3-none-any.whl.metadata (11 kB)\n",
            "Collecting filetype<2.0.0,>=1.2.0 (from llama-index-core<0.13.0,>=0.12.5->llama-index-llms-anthropic)\n",
            "  Downloading filetype-1.2.0-py2.py3-none-any.whl.metadata (6.5 kB)\n",
            "Requirement already satisfied: fsspec>=2023.5.0 in /usr/local/lib/python3.11/dist-packages (from llama-index-core<0.13.0,>=0.12.5->llama-index-llms-anthropic) (2024.10.0)\n",
            "Requirement already satisfied: nest-asyncio<2.0.0,>=1.5.8 in /usr/local/lib/python3.11/dist-packages (from llama-index-core<0.13.0,>=0.12.5->llama-index-llms-anthropic) (1.6.0)\n",
            "Requirement already satisfied: networkx>=3.0 in /usr/local/lib/python3.11/dist-packages (from llama-index-core<0.13.0,>=0.12.5->llama-index-llms-anthropic) (3.4.2)\n",
            "Requirement already satisfied: nltk>3.8.1 in /usr/local/lib/python3.11/dist-packages (from llama-index-core<0.13.0,>=0.12.5->llama-index-llms-anthropic) (3.9.1)\n",
            "Requirement already satisfied: numpy in /usr/local/lib/python3.11/dist-packages (from llama-index-core<0.13.0,>=0.12.5->llama-index-llms-anthropic) (1.26.4)\n",
            "Requirement already satisfied: pillow>=9.0.0 in /usr/local/lib/python3.11/dist-packages (from llama-index-core<0.13.0,>=0.12.5->llama-index-llms-anthropic) (11.1.0)\n",
            "Requirement already satisfied: requests>=2.31.0 in /usr/local/lib/python3.11/dist-packages (from llama-index-core<0.13.0,>=0.12.5->llama-index-llms-anthropic) (2.32.3)\n",
            "Requirement already satisfied: tenacity!=8.4.0,<10.0.0,>=8.2.0 in /usr/local/lib/python3.11/dist-packages (from llama-index-core<0.13.0,>=0.12.5->llama-index-llms-anthropic) (9.0.0)\n",
            "Collecting tiktoken>=0.3.3 (from llama-index-core<0.13.0,>=0.12.5->llama-index-llms-anthropic)\n",
            "  Downloading tiktoken-0.8.0-cp311-cp311-manylinux_2_17_x86_64.manylinux2014_x86_64.whl.metadata (6.6 kB)\n",
            "Requirement already satisfied: tqdm<5.0.0,>=4.66.1 in /usr/local/lib/python3.11/dist-packages (from llama-index-core<0.13.0,>=0.12.5->llama-index-llms-anthropic) (4.67.1)\n",
            "Collecting typing-inspect>=0.8.0 (from llama-index-core<0.13.0,>=0.12.5->llama-index-llms-anthropic)\n",
            "  Downloading typing_inspect-0.9.0-py3-none-any.whl.metadata (1.5 kB)\n",
            "Requirement already satisfied: wrapt in /usr/local/lib/python3.11/dist-packages (from llama-index-core<0.13.0,>=0.12.5->llama-index-llms-anthropic) (1.17.2)\n",
            "Requirement already satisfied: aiohappyeyeballs>=2.3.0 in /usr/local/lib/python3.11/dist-packages (from aiohttp<4.0.0,>=3.8.6->llama-index-core<0.13.0,>=0.12.5->llama-index-llms-anthropic) (2.4.4)\n",
            "Requirement already satisfied: aiosignal>=1.1.2 in /usr/local/lib/python3.11/dist-packages (from aiohttp<4.0.0,>=3.8.6->llama-index-core<0.13.0,>=0.12.5->llama-index-llms-anthropic) (1.3.2)\n",
            "Requirement already satisfied: attrs>=17.3.0 in /usr/local/lib/python3.11/dist-packages (from aiohttp<4.0.0,>=3.8.6->llama-index-core<0.13.0,>=0.12.5->llama-index-llms-anthropic) (24.3.0)\n",
            "Requirement already satisfied: frozenlist>=1.1.1 in /usr/local/lib/python3.11/dist-packages (from aiohttp<4.0.0,>=3.8.6->llama-index-core<0.13.0,>=0.12.5->llama-index-llms-anthropic) (1.5.0)\n",
            "Requirement already satisfied: multidict<7.0,>=4.5 in /usr/local/lib/python3.11/dist-packages (from aiohttp<4.0.0,>=3.8.6->llama-index-core<0.13.0,>=0.12.5->llama-index-llms-anthropic) (6.1.0)\n",
            "Requirement already satisfied: propcache>=0.2.0 in /usr/local/lib/python3.11/dist-packages (from aiohttp<4.0.0,>=3.8.6->llama-index-core<0.13.0,>=0.12.5->llama-index-llms-anthropic) (0.2.1)\n",
            "Requirement already satisfied: yarl<2.0,>=1.17.0 in /usr/local/lib/python3.11/dist-packages (from aiohttp<4.0.0,>=3.8.6->llama-index-core<0.13.0,>=0.12.5->llama-index-llms-anthropic) (1.18.3)\n",
            "Requirement already satisfied: idna>=2.8 in /usr/local/lib/python3.11/dist-packages (from anyio<5,>=3.5.0->anthropic>=0.41.0->anthropic[bedrock,vertex]>=0.41.0->llama-index-llms-anthropic) (3.10)\n",
            "Collecting jmespath<2.0.0,>=0.7.1 (from boto3>=1.28.57->anthropic[bedrock,vertex]>=0.41.0->llama-index-llms-anthropic)\n",
            "  Downloading jmespath-1.0.1-py3-none-any.whl.metadata (7.6 kB)\n",
            "Collecting s3transfer<0.12.0,>=0.11.0 (from boto3>=1.28.57->anthropic[bedrock,vertex]>=0.41.0->llama-index-llms-anthropic)\n",
            "  Downloading s3transfer-0.11.2-py3-none-any.whl.metadata (1.7 kB)\n",
            "Requirement already satisfied: python-dateutil<3.0.0,>=2.1 in /usr/local/lib/python3.11/dist-packages (from botocore>=1.31.57->anthropic[bedrock,vertex]>=0.41.0->llama-index-llms-anthropic) (2.8.2)\n",
            "Requirement already satisfied: urllib3!=2.2.0,<3,>=1.25.4 in /usr/local/lib/python3.11/dist-packages (from botocore>=1.31.57->anthropic[bedrock,vertex]>=0.41.0->llama-index-llms-anthropic) (2.3.0)\n",
            "Requirement already satisfied: cachetools<6.0,>=2.0.0 in /usr/local/lib/python3.11/dist-packages (from google-auth<3,>=2->anthropic[bedrock,vertex]>=0.41.0->llama-index-llms-anthropic) (5.5.1)\n",
            "Requirement already satisfied: pyasn1-modules>=0.2.1 in /usr/local/lib/python3.11/dist-packages (from google-auth<3,>=2->anthropic[bedrock,vertex]>=0.41.0->llama-index-llms-anthropic) (0.4.1)\n",
            "Requirement already satisfied: rsa<5,>=3.1.4 in /usr/local/lib/python3.11/dist-packages (from google-auth<3,>=2->anthropic[bedrock,vertex]>=0.41.0->llama-index-llms-anthropic) (4.9)\n",
            "Requirement already satisfied: certifi in /usr/local/lib/python3.11/dist-packages (from httpx<1,>=0.23.0->anthropic>=0.41.0->anthropic[bedrock,vertex]>=0.41.0->llama-index-llms-anthropic) (2024.12.14)\n",
            "Requirement already satisfied: httpcore==1.* in /usr/local/lib/python3.11/dist-packages (from httpx<1,>=0.23.0->anthropic>=0.41.0->anthropic[bedrock,vertex]>=0.41.0->llama-index-llms-anthropic) (1.0.7)\n",
            "Requirement already satisfied: h11<0.15,>=0.13 in /usr/local/lib/python3.11/dist-packages (from httpcore==1.*->httpx<1,>=0.23.0->anthropic>=0.41.0->anthropic[bedrock,vertex]>=0.41.0->llama-index-llms-anthropic) (0.14.0)\n",
            "Requirement already satisfied: click in /usr/local/lib/python3.11/dist-packages (from nltk>3.8.1->llama-index-core<0.13.0,>=0.12.5->llama-index-llms-anthropic) (8.1.8)\n",
            "Requirement already satisfied: joblib in /usr/local/lib/python3.11/dist-packages (from nltk>3.8.1->llama-index-core<0.13.0,>=0.12.5->llama-index-llms-anthropic) (1.4.2)\n",
            "Requirement already satisfied: regex>=2021.8.3 in /usr/local/lib/python3.11/dist-packages (from nltk>3.8.1->llama-index-core<0.13.0,>=0.12.5->llama-index-llms-anthropic) (2024.11.6)\n",
            "Requirement already satisfied: annotated-types>=0.6.0 in /usr/local/lib/python3.11/dist-packages (from pydantic<3,>=1.9.0->anthropic>=0.41.0->anthropic[bedrock,vertex]>=0.41.0->llama-index-llms-anthropic) (0.7.0)\n",
            "Requirement already satisfied: pydantic-core==2.27.2 in /usr/local/lib/python3.11/dist-packages (from pydantic<3,>=1.9.0->anthropic>=0.41.0->anthropic[bedrock,vertex]>=0.41.0->llama-index-llms-anthropic) (2.27.2)\n",
            "Requirement already satisfied: charset-normalizer<4,>=2 in /usr/local/lib/python3.11/dist-packages (from requests>=2.31.0->llama-index-core<0.13.0,>=0.12.5->llama-index-llms-anthropic) (3.4.1)\n",
            "Requirement already satisfied: greenlet!=0.4.17 in /usr/local/lib/python3.11/dist-packages (from SQLAlchemy>=1.4.49->SQLAlchemy[asyncio]>=1.4.49->llama-index-core<0.13.0,>=0.12.5->llama-index-llms-anthropic) (3.1.1)\n",
            "Collecting mypy-extensions>=0.3.0 (from typing-inspect>=0.8.0->llama-index-core<0.13.0,>=0.12.5->llama-index-llms-anthropic)\n",
            "  Downloading mypy_extensions-1.0.0-py3-none-any.whl.metadata (1.1 kB)\n",
            "Collecting marshmallow<4.0.0,>=3.18.0 (from dataclasses-json->llama-index-core<0.13.0,>=0.12.5->llama-index-llms-anthropic)\n",
            "  Downloading marshmallow-3.26.0-py3-none-any.whl.metadata (7.3 kB)\n",
            "Requirement already satisfied: packaging>=17.0 in /usr/local/lib/python3.11/dist-packages (from marshmallow<4.0.0,>=3.18.0->dataclasses-json->llama-index-core<0.13.0,>=0.12.5->llama-index-llms-anthropic) (24.2)\n",
            "Requirement already satisfied: pyasn1<0.7.0,>=0.4.6 in /usr/local/lib/python3.11/dist-packages (from pyasn1-modules>=0.2.1->google-auth<3,>=2->anthropic[bedrock,vertex]>=0.41.0->llama-index-llms-anthropic) (0.6.1)\n",
            "Requirement already satisfied: six>=1.5 in /usr/local/lib/python3.11/dist-packages (from python-dateutil<3.0.0,>=2.1->botocore>=1.31.57->anthropic[bedrock,vertex]>=0.41.0->llama-index-llms-anthropic) (1.17.0)\n",
            "Downloading llama_index_llms_anthropic-0.6.4-py3-none-any.whl (9.4 kB)\n",
            "Downloading anthropic-0.45.0-py3-none-any.whl (222 kB)\n",
            "\u001b[2K   \u001b[90m━━━━━━━━━━━━━━━━━━━━━━━━━━━━━━━━━━━━━━━━\u001b[0m \u001b[32m222.3/222.3 kB\u001b[0m \u001b[31m9.7 MB/s\u001b[0m eta \u001b[36m0:00:00\u001b[0m\n",
            "\u001b[?25hDownloading llama_index_core-0.12.14-py3-none-any.whl (1.6 MB)\n",
            "\u001b[2K   \u001b[90m━━━━━━━━━━━━━━━━━━━━━━━━━━━━━━━━━━━━━━━━\u001b[0m \u001b[32m1.6/1.6 MB\u001b[0m \u001b[31m32.1 MB/s\u001b[0m eta \u001b[36m0:00:00\u001b[0m\n",
            "\u001b[?25hDownloading boto3-1.36.6-py3-none-any.whl (139 kB)\n",
            "\u001b[2K   \u001b[90m━━━━━━━━━━━━━━━━━━━━━━━━━━━━━━━━━━━━━━━━\u001b[0m \u001b[32m139.2/139.2 kB\u001b[0m \u001b[31m11.3 MB/s\u001b[0m eta \u001b[36m0:00:00\u001b[0m\n",
            "\u001b[?25hDownloading botocore-1.36.6-py3-none-any.whl (13.3 MB)\n",
            "\u001b[2K   \u001b[90m━━━━━━━━━━━━━━━━━━━━━━━━━━━━━━━━━━━━━━━━\u001b[0m \u001b[32m13.3/13.3 MB\u001b[0m \u001b[31m61.6 MB/s\u001b[0m eta \u001b[36m0:00:00\u001b[0m\n",
            "\u001b[?25hDownloading dirtyjson-1.0.8-py3-none-any.whl (25 kB)\n",
            "Downloading filetype-1.2.0-py2.py3-none-any.whl (19 kB)\n",
            "Downloading tiktoken-0.8.0-cp311-cp311-manylinux_2_17_x86_64.manylinux2014_x86_64.whl (1.2 MB)\n",
            "\u001b[2K   \u001b[90m━━━━━━━━━━━━━━━━━━━━━━━━━━━━━━━━━━━━━━━━\u001b[0m \u001b[32m1.2/1.2 MB\u001b[0m \u001b[31m39.5 MB/s\u001b[0m eta \u001b[36m0:00:00\u001b[0m\n",
            "\u001b[?25hDownloading typing_inspect-0.9.0-py3-none-any.whl (8.8 kB)\n",
            "Downloading dataclasses_json-0.6.7-py3-none-any.whl (28 kB)\n",
            "Downloading jmespath-1.0.1-py3-none-any.whl (20 kB)\n",
            "Downloading marshmallow-3.26.0-py3-none-any.whl (50 kB)\n",
            "\u001b[2K   \u001b[90m━━━━━━━━━━━━━━━━━━━━━━━━━━━━━━━━━━━━━━━━\u001b[0m \u001b[32m50.8/50.8 kB\u001b[0m \u001b[31m4.2 MB/s\u001b[0m eta \u001b[36m0:00:00\u001b[0m\n",
            "\u001b[?25hDownloading mypy_extensions-1.0.0-py3-none-any.whl (4.7 kB)\n",
            "Downloading s3transfer-0.11.2-py3-none-any.whl (84 kB)\n",
            "\u001b[2K   \u001b[90m━━━━━━━━━━━━━━━━━━━━━━━━━━━━━━━━━━━━━━━━\u001b[0m \u001b[32m84.2/84.2 kB\u001b[0m \u001b[31m6.5 MB/s\u001b[0m eta \u001b[36m0:00:00\u001b[0m\n",
            "\u001b[?25hInstalling collected packages: filetype, dirtyjson, mypy-extensions, marshmallow, jmespath, typing-inspect, tiktoken, botocore, s3transfer, dataclasses-json, anthropic, llama-index-core, boto3, llama-index-llms-anthropic\n",
            "Successfully installed anthropic-0.45.0 boto3-1.36.6 botocore-1.36.6 dataclasses-json-0.6.7 dirtyjson-1.0.8 filetype-1.2.0 jmespath-1.0.1 llama-index-core-0.12.14 llama-index-llms-anthropic-0.6.4 marshmallow-3.26.0 mypy-extensions-1.0.0 s3transfer-0.11.2 tiktoken-0.8.0 typing-inspect-0.9.0\n",
            "Collecting llama-index-embeddings-openai\n",
            "  Downloading llama_index_embeddings_openai-0.3.1-py3-none-any.whl.metadata (684 bytes)\n",
            "Requirement already satisfied: llama-index-core<0.13.0,>=0.12.0 in /usr/local/lib/python3.11/dist-packages (from llama-index-embeddings-openai) (0.12.14)\n",
            "Requirement already satisfied: openai>=1.1.0 in /usr/local/lib/python3.11/dist-packages (from llama-index-embeddings-openai) (1.59.9)\n",
            "Requirement already satisfied: PyYAML>=6.0.1 in /usr/local/lib/python3.11/dist-packages (from llama-index-core<0.13.0,>=0.12.0->llama-index-embeddings-openai) (6.0.2)\n",
            "Requirement already satisfied: SQLAlchemy>=1.4.49 in /usr/local/lib/python3.11/dist-packages (from SQLAlchemy[asyncio]>=1.4.49->llama-index-core<0.13.0,>=0.12.0->llama-index-embeddings-openai) (2.0.37)\n",
            "Requirement already satisfied: aiohttp<4.0.0,>=3.8.6 in /usr/local/lib/python3.11/dist-packages (from llama-index-core<0.13.0,>=0.12.0->llama-index-embeddings-openai) (3.11.11)\n",
            "Requirement already satisfied: dataclasses-json in /usr/local/lib/python3.11/dist-packages (from llama-index-core<0.13.0,>=0.12.0->llama-index-embeddings-openai) (0.6.7)\n",
            "Requirement already satisfied: deprecated>=1.2.9.3 in /usr/local/lib/python3.11/dist-packages (from llama-index-core<0.13.0,>=0.12.0->llama-index-embeddings-openai) (1.2.15)\n",
            "Requirement already satisfied: dirtyjson<2.0.0,>=1.0.8 in /usr/local/lib/python3.11/dist-packages (from llama-index-core<0.13.0,>=0.12.0->llama-index-embeddings-openai) (1.0.8)\n",
            "Requirement already satisfied: filetype<2.0.0,>=1.2.0 in /usr/local/lib/python3.11/dist-packages (from llama-index-core<0.13.0,>=0.12.0->llama-index-embeddings-openai) (1.2.0)\n",
            "Requirement already satisfied: fsspec>=2023.5.0 in /usr/local/lib/python3.11/dist-packages (from llama-index-core<0.13.0,>=0.12.0->llama-index-embeddings-openai) (2024.10.0)\n",
            "Requirement already satisfied: httpx in /usr/local/lib/python3.11/dist-packages (from llama-index-core<0.13.0,>=0.12.0->llama-index-embeddings-openai) (0.28.1)\n",
            "Requirement already satisfied: nest-asyncio<2.0.0,>=1.5.8 in /usr/local/lib/python3.11/dist-packages (from llama-index-core<0.13.0,>=0.12.0->llama-index-embeddings-openai) (1.6.0)\n",
            "Requirement already satisfied: networkx>=3.0 in /usr/local/lib/python3.11/dist-packages (from llama-index-core<0.13.0,>=0.12.0->llama-index-embeddings-openai) (3.4.2)\n",
            "Requirement already satisfied: nltk>3.8.1 in /usr/local/lib/python3.11/dist-packages (from llama-index-core<0.13.0,>=0.12.0->llama-index-embeddings-openai) (3.9.1)\n",
            "Requirement already satisfied: numpy in /usr/local/lib/python3.11/dist-packages (from llama-index-core<0.13.0,>=0.12.0->llama-index-embeddings-openai) (1.26.4)\n",
            "Requirement already satisfied: pillow>=9.0.0 in /usr/local/lib/python3.11/dist-packages (from llama-index-core<0.13.0,>=0.12.0->llama-index-embeddings-openai) (11.1.0)\n",
            "Requirement already satisfied: pydantic>=2.8.0 in /usr/local/lib/python3.11/dist-packages (from llama-index-core<0.13.0,>=0.12.0->llama-index-embeddings-openai) (2.10.5)\n",
            "Requirement already satisfied: requests>=2.31.0 in /usr/local/lib/python3.11/dist-packages (from llama-index-core<0.13.0,>=0.12.0->llama-index-embeddings-openai) (2.32.3)\n",
            "Requirement already satisfied: tenacity!=8.4.0,<10.0.0,>=8.2.0 in /usr/local/lib/python3.11/dist-packages (from llama-index-core<0.13.0,>=0.12.0->llama-index-embeddings-openai) (9.0.0)\n",
            "Requirement already satisfied: tiktoken>=0.3.3 in /usr/local/lib/python3.11/dist-packages (from llama-index-core<0.13.0,>=0.12.0->llama-index-embeddings-openai) (0.8.0)\n",
            "Requirement already satisfied: tqdm<5.0.0,>=4.66.1 in /usr/local/lib/python3.11/dist-packages (from llama-index-core<0.13.0,>=0.12.0->llama-index-embeddings-openai) (4.67.1)\n",
            "Requirement already satisfied: typing-extensions>=4.5.0 in /usr/local/lib/python3.11/dist-packages (from llama-index-core<0.13.0,>=0.12.0->llama-index-embeddings-openai) (4.12.2)\n",
            "Requirement already satisfied: typing-inspect>=0.8.0 in /usr/local/lib/python3.11/dist-packages (from llama-index-core<0.13.0,>=0.12.0->llama-index-embeddings-openai) (0.9.0)\n",
            "Requirement already satisfied: wrapt in /usr/local/lib/python3.11/dist-packages (from llama-index-core<0.13.0,>=0.12.0->llama-index-embeddings-openai) (1.17.2)\n",
            "Requirement already satisfied: anyio<5,>=3.5.0 in /usr/local/lib/python3.11/dist-packages (from openai>=1.1.0->llama-index-embeddings-openai) (3.7.1)\n",
            "Requirement already satisfied: distro<2,>=1.7.0 in /usr/local/lib/python3.11/dist-packages (from openai>=1.1.0->llama-index-embeddings-openai) (1.9.0)\n",
            "Requirement already satisfied: jiter<1,>=0.4.0 in /usr/local/lib/python3.11/dist-packages (from openai>=1.1.0->llama-index-embeddings-openai) (0.8.2)\n",
            "Requirement already satisfied: sniffio in /usr/local/lib/python3.11/dist-packages (from openai>=1.1.0->llama-index-embeddings-openai) (1.3.1)\n",
            "Requirement already satisfied: aiohappyeyeballs>=2.3.0 in /usr/local/lib/python3.11/dist-packages (from aiohttp<4.0.0,>=3.8.6->llama-index-core<0.13.0,>=0.12.0->llama-index-embeddings-openai) (2.4.4)\n",
            "Requirement already satisfied: aiosignal>=1.1.2 in /usr/local/lib/python3.11/dist-packages (from aiohttp<4.0.0,>=3.8.6->llama-index-core<0.13.0,>=0.12.0->llama-index-embeddings-openai) (1.3.2)\n",
            "Requirement already satisfied: attrs>=17.3.0 in /usr/local/lib/python3.11/dist-packages (from aiohttp<4.0.0,>=3.8.6->llama-index-core<0.13.0,>=0.12.0->llama-index-embeddings-openai) (24.3.0)\n",
            "Requirement already satisfied: frozenlist>=1.1.1 in /usr/local/lib/python3.11/dist-packages (from aiohttp<4.0.0,>=3.8.6->llama-index-core<0.13.0,>=0.12.0->llama-index-embeddings-openai) (1.5.0)\n",
            "Requirement already satisfied: multidict<7.0,>=4.5 in /usr/local/lib/python3.11/dist-packages (from aiohttp<4.0.0,>=3.8.6->llama-index-core<0.13.0,>=0.12.0->llama-index-embeddings-openai) (6.1.0)\n",
            "Requirement already satisfied: propcache>=0.2.0 in /usr/local/lib/python3.11/dist-packages (from aiohttp<4.0.0,>=3.8.6->llama-index-core<0.13.0,>=0.12.0->llama-index-embeddings-openai) (0.2.1)\n",
            "Requirement already satisfied: yarl<2.0,>=1.17.0 in /usr/local/lib/python3.11/dist-packages (from aiohttp<4.0.0,>=3.8.6->llama-index-core<0.13.0,>=0.12.0->llama-index-embeddings-openai) (1.18.3)\n",
            "Requirement already satisfied: idna>=2.8 in /usr/local/lib/python3.11/dist-packages (from anyio<5,>=3.5.0->openai>=1.1.0->llama-index-embeddings-openai) (3.10)\n",
            "Requirement already satisfied: certifi in /usr/local/lib/python3.11/dist-packages (from httpx->llama-index-core<0.13.0,>=0.12.0->llama-index-embeddings-openai) (2024.12.14)\n",
            "Requirement already satisfied: httpcore==1.* in /usr/local/lib/python3.11/dist-packages (from httpx->llama-index-core<0.13.0,>=0.12.0->llama-index-embeddings-openai) (1.0.7)\n",
            "Requirement already satisfied: h11<0.15,>=0.13 in /usr/local/lib/python3.11/dist-packages (from httpcore==1.*->httpx->llama-index-core<0.13.0,>=0.12.0->llama-index-embeddings-openai) (0.14.0)\n",
            "Requirement already satisfied: click in /usr/local/lib/python3.11/dist-packages (from nltk>3.8.1->llama-index-core<0.13.0,>=0.12.0->llama-index-embeddings-openai) (8.1.8)\n",
            "Requirement already satisfied: joblib in /usr/local/lib/python3.11/dist-packages (from nltk>3.8.1->llama-index-core<0.13.0,>=0.12.0->llama-index-embeddings-openai) (1.4.2)\n",
            "Requirement already satisfied: regex>=2021.8.3 in /usr/local/lib/python3.11/dist-packages (from nltk>3.8.1->llama-index-core<0.13.0,>=0.12.0->llama-index-embeddings-openai) (2024.11.6)\n",
            "Requirement already satisfied: annotated-types>=0.6.0 in /usr/local/lib/python3.11/dist-packages (from pydantic>=2.8.0->llama-index-core<0.13.0,>=0.12.0->llama-index-embeddings-openai) (0.7.0)\n",
            "Requirement already satisfied: pydantic-core==2.27.2 in /usr/local/lib/python3.11/dist-packages (from pydantic>=2.8.0->llama-index-core<0.13.0,>=0.12.0->llama-index-embeddings-openai) (2.27.2)\n",
            "Requirement already satisfied: charset-normalizer<4,>=2 in /usr/local/lib/python3.11/dist-packages (from requests>=2.31.0->llama-index-core<0.13.0,>=0.12.0->llama-index-embeddings-openai) (3.4.1)\n",
            "Requirement already satisfied: urllib3<3,>=1.21.1 in /usr/local/lib/python3.11/dist-packages (from requests>=2.31.0->llama-index-core<0.13.0,>=0.12.0->llama-index-embeddings-openai) (2.3.0)\n",
            "Requirement already satisfied: greenlet!=0.4.17 in /usr/local/lib/python3.11/dist-packages (from SQLAlchemy>=1.4.49->SQLAlchemy[asyncio]>=1.4.49->llama-index-core<0.13.0,>=0.12.0->llama-index-embeddings-openai) (3.1.1)\n",
            "Requirement already satisfied: mypy-extensions>=0.3.0 in /usr/local/lib/python3.11/dist-packages (from typing-inspect>=0.8.0->llama-index-core<0.13.0,>=0.12.0->llama-index-embeddings-openai) (1.0.0)\n",
            "Requirement already satisfied: marshmallow<4.0.0,>=3.18.0 in /usr/local/lib/python3.11/dist-packages (from dataclasses-json->llama-index-core<0.13.0,>=0.12.0->llama-index-embeddings-openai) (3.26.0)\n",
            "Requirement already satisfied: packaging>=17.0 in /usr/local/lib/python3.11/dist-packages (from marshmallow<4.0.0,>=3.18.0->dataclasses-json->llama-index-core<0.13.0,>=0.12.0->llama-index-embeddings-openai) (24.2)\n",
            "Downloading llama_index_embeddings_openai-0.3.1-py3-none-any.whl (6.2 kB)\n",
            "Installing collected packages: llama-index-embeddings-openai\n",
            "Successfully installed llama-index-embeddings-openai-0.3.1\n",
            "Collecting llama-index\n",
            "  Downloading llama_index-0.12.14-py3-none-any.whl.metadata (12 kB)\n",
            "Collecting llama-index-agent-openai<0.5.0,>=0.4.0 (from llama-index)\n",
            "  Downloading llama_index_agent_openai-0.4.2-py3-none-any.whl.metadata (727 bytes)\n",
            "Collecting llama-index-cli<0.5.0,>=0.4.0 (from llama-index)\n",
            "  Downloading llama_index_cli-0.4.0-py3-none-any.whl.metadata (1.5 kB)\n",
            "Requirement already satisfied: llama-index-core<0.13.0,>=0.12.14 in /usr/local/lib/python3.11/dist-packages (from llama-index) (0.12.14)\n",
            "Requirement already satisfied: llama-index-embeddings-openai<0.4.0,>=0.3.0 in /usr/local/lib/python3.11/dist-packages (from llama-index) (0.3.1)\n",
            "Collecting llama-index-indices-managed-llama-cloud>=0.4.0 (from llama-index)\n",
            "  Downloading llama_index_indices_managed_llama_cloud-0.6.4-py3-none-any.whl.metadata (3.6 kB)\n",
            "Collecting llama-index-llms-openai<0.4.0,>=0.3.0 (from llama-index)\n",
            "  Downloading llama_index_llms_openai-0.3.14-py3-none-any.whl.metadata (3.3 kB)\n",
            "Collecting llama-index-multi-modal-llms-openai<0.5.0,>=0.4.0 (from llama-index)\n",
            "  Downloading llama_index_multi_modal_llms_openai-0.4.2-py3-none-any.whl.metadata (726 bytes)\n",
            "Collecting llama-index-program-openai<0.4.0,>=0.3.0 (from llama-index)\n",
            "  Downloading llama_index_program_openai-0.3.1-py3-none-any.whl.metadata (764 bytes)\n",
            "Collecting llama-index-question-gen-openai<0.4.0,>=0.3.0 (from llama-index)\n",
            "  Downloading llama_index_question_gen_openai-0.3.0-py3-none-any.whl.metadata (783 bytes)\n",
            "Collecting llama-index-readers-file<0.5.0,>=0.4.0 (from llama-index)\n",
            "  Downloading llama_index_readers_file-0.4.4-py3-none-any.whl.metadata (5.4 kB)\n",
            "Collecting llama-index-readers-llama-parse>=0.4.0 (from llama-index)\n",
            "  Downloading llama_index_readers_llama_parse-0.4.0-py3-none-any.whl.metadata (3.6 kB)\n",
            "Requirement already satisfied: nltk>3.8.1 in /usr/local/lib/python3.11/dist-packages (from llama-index) (3.9.1)\n",
            "Requirement already satisfied: openai>=1.14.0 in /usr/local/lib/python3.11/dist-packages (from llama-index-agent-openai<0.5.0,>=0.4.0->llama-index) (1.59.9)\n",
            "Requirement already satisfied: PyYAML>=6.0.1 in /usr/local/lib/python3.11/dist-packages (from llama-index-core<0.13.0,>=0.12.14->llama-index) (6.0.2)\n",
            "Requirement already satisfied: SQLAlchemy>=1.4.49 in /usr/local/lib/python3.11/dist-packages (from SQLAlchemy[asyncio]>=1.4.49->llama-index-core<0.13.0,>=0.12.14->llama-index) (2.0.37)\n",
            "Requirement already satisfied: aiohttp<4.0.0,>=3.8.6 in /usr/local/lib/python3.11/dist-packages (from llama-index-core<0.13.0,>=0.12.14->llama-index) (3.11.11)\n",
            "Requirement already satisfied: dataclasses-json in /usr/local/lib/python3.11/dist-packages (from llama-index-core<0.13.0,>=0.12.14->llama-index) (0.6.7)\n",
            "Requirement already satisfied: deprecated>=1.2.9.3 in /usr/local/lib/python3.11/dist-packages (from llama-index-core<0.13.0,>=0.12.14->llama-index) (1.2.15)\n",
            "Requirement already satisfied: dirtyjson<2.0.0,>=1.0.8 in /usr/local/lib/python3.11/dist-packages (from llama-index-core<0.13.0,>=0.12.14->llama-index) (1.0.8)\n",
            "Requirement already satisfied: filetype<2.0.0,>=1.2.0 in /usr/local/lib/python3.11/dist-packages (from llama-index-core<0.13.0,>=0.12.14->llama-index) (1.2.0)\n",
            "Requirement already satisfied: fsspec>=2023.5.0 in /usr/local/lib/python3.11/dist-packages (from llama-index-core<0.13.0,>=0.12.14->llama-index) (2024.10.0)\n",
            "Requirement already satisfied: httpx in /usr/local/lib/python3.11/dist-packages (from llama-index-core<0.13.0,>=0.12.14->llama-index) (0.28.1)\n",
            "Requirement already satisfied: nest-asyncio<2.0.0,>=1.5.8 in /usr/local/lib/python3.11/dist-packages (from llama-index-core<0.13.0,>=0.12.14->llama-index) (1.6.0)\n",
            "Requirement already satisfied: networkx>=3.0 in /usr/local/lib/python3.11/dist-packages (from llama-index-core<0.13.0,>=0.12.14->llama-index) (3.4.2)\n",
            "Requirement already satisfied: numpy in /usr/local/lib/python3.11/dist-packages (from llama-index-core<0.13.0,>=0.12.14->llama-index) (1.26.4)\n",
            "Requirement already satisfied: pillow>=9.0.0 in /usr/local/lib/python3.11/dist-packages (from llama-index-core<0.13.0,>=0.12.14->llama-index) (11.1.0)\n",
            "Requirement already satisfied: pydantic>=2.8.0 in /usr/local/lib/python3.11/dist-packages (from llama-index-core<0.13.0,>=0.12.14->llama-index) (2.10.5)\n",
            "Requirement already satisfied: requests>=2.31.0 in /usr/local/lib/python3.11/dist-packages (from llama-index-core<0.13.0,>=0.12.14->llama-index) (2.32.3)\n",
            "Requirement already satisfied: tenacity!=8.4.0,<10.0.0,>=8.2.0 in /usr/local/lib/python3.11/dist-packages (from llama-index-core<0.13.0,>=0.12.14->llama-index) (9.0.0)\n",
            "Requirement already satisfied: tiktoken>=0.3.3 in /usr/local/lib/python3.11/dist-packages (from llama-index-core<0.13.0,>=0.12.14->llama-index) (0.8.0)\n",
            "Requirement already satisfied: tqdm<5.0.0,>=4.66.1 in /usr/local/lib/python3.11/dist-packages (from llama-index-core<0.13.0,>=0.12.14->llama-index) (4.67.1)\n",
            "Requirement already satisfied: typing-extensions>=4.5.0 in /usr/local/lib/python3.11/dist-packages (from llama-index-core<0.13.0,>=0.12.14->llama-index) (4.12.2)\n",
            "Requirement already satisfied: typing-inspect>=0.8.0 in /usr/local/lib/python3.11/dist-packages (from llama-index-core<0.13.0,>=0.12.14->llama-index) (0.9.0)\n",
            "Requirement already satisfied: wrapt in /usr/local/lib/python3.11/dist-packages (from llama-index-core<0.13.0,>=0.12.14->llama-index) (1.17.2)\n",
            "Collecting llama-cloud<0.2.0,>=0.1.8 (from llama-index-indices-managed-llama-cloud>=0.4.0->llama-index)\n",
            "  Downloading llama_cloud-0.1.10-py3-none-any.whl.metadata (912 bytes)\n",
            "Requirement already satisfied: beautifulsoup4<5.0.0,>=4.12.3 in /usr/local/lib/python3.11/dist-packages (from llama-index-readers-file<0.5.0,>=0.4.0->llama-index) (4.12.3)\n",
            "Requirement already satisfied: pandas in /usr/local/lib/python3.11/dist-packages (from llama-index-readers-file<0.5.0,>=0.4.0->llama-index) (2.2.2)\n",
            "Collecting pypdf<6.0.0,>=5.1.0 (from llama-index-readers-file<0.5.0,>=0.4.0->llama-index)\n",
            "  Downloading pypdf-5.1.0-py3-none-any.whl.metadata (7.2 kB)\n",
            "Collecting striprtf<0.0.27,>=0.0.26 (from llama-index-readers-file<0.5.0,>=0.4.0->llama-index)\n",
            "  Downloading striprtf-0.0.26-py3-none-any.whl.metadata (2.1 kB)\n",
            "Collecting llama-parse>=0.5.0 (from llama-index-readers-llama-parse>=0.4.0->llama-index)\n",
            "  Downloading llama_parse-0.5.20-py3-none-any.whl.metadata (6.9 kB)\n",
            "Requirement already satisfied: click in /usr/local/lib/python3.11/dist-packages (from nltk>3.8.1->llama-index) (8.1.8)\n",
            "Requirement already satisfied: joblib in /usr/local/lib/python3.11/dist-packages (from nltk>3.8.1->llama-index) (1.4.2)\n",
            "Requirement already satisfied: regex>=2021.8.3 in /usr/local/lib/python3.11/dist-packages (from nltk>3.8.1->llama-index) (2024.11.6)\n",
            "Requirement already satisfied: aiohappyeyeballs>=2.3.0 in /usr/local/lib/python3.11/dist-packages (from aiohttp<4.0.0,>=3.8.6->llama-index-core<0.13.0,>=0.12.14->llama-index) (2.4.4)\n",
            "Requirement already satisfied: aiosignal>=1.1.2 in /usr/local/lib/python3.11/dist-packages (from aiohttp<4.0.0,>=3.8.6->llama-index-core<0.13.0,>=0.12.14->llama-index) (1.3.2)\n",
            "Requirement already satisfied: attrs>=17.3.0 in /usr/local/lib/python3.11/dist-packages (from aiohttp<4.0.0,>=3.8.6->llama-index-core<0.13.0,>=0.12.14->llama-index) (24.3.0)\n",
            "Requirement already satisfied: frozenlist>=1.1.1 in /usr/local/lib/python3.11/dist-packages (from aiohttp<4.0.0,>=3.8.6->llama-index-core<0.13.0,>=0.12.14->llama-index) (1.5.0)\n",
            "Requirement already satisfied: multidict<7.0,>=4.5 in /usr/local/lib/python3.11/dist-packages (from aiohttp<4.0.0,>=3.8.6->llama-index-core<0.13.0,>=0.12.14->llama-index) (6.1.0)\n",
            "Requirement already satisfied: propcache>=0.2.0 in /usr/local/lib/python3.11/dist-packages (from aiohttp<4.0.0,>=3.8.6->llama-index-core<0.13.0,>=0.12.14->llama-index) (0.2.1)\n",
            "Requirement already satisfied: yarl<2.0,>=1.17.0 in /usr/local/lib/python3.11/dist-packages (from aiohttp<4.0.0,>=3.8.6->llama-index-core<0.13.0,>=0.12.14->llama-index) (1.18.3)\n",
            "Requirement already satisfied: soupsieve>1.2 in /usr/local/lib/python3.11/dist-packages (from beautifulsoup4<5.0.0,>=4.12.3->llama-index-readers-file<0.5.0,>=0.4.0->llama-index) (2.6)\n",
            "Requirement already satisfied: certifi<2025.0.0,>=2024.7.4 in /usr/local/lib/python3.11/dist-packages (from llama-cloud<0.2.0,>=0.1.8->llama-index-indices-managed-llama-cloud>=0.4.0->llama-index) (2024.12.14)\n",
            "Requirement already satisfied: anyio in /usr/local/lib/python3.11/dist-packages (from httpx->llama-index-core<0.13.0,>=0.12.14->llama-index) (3.7.1)\n",
            "Requirement already satisfied: httpcore==1.* in /usr/local/lib/python3.11/dist-packages (from httpx->llama-index-core<0.13.0,>=0.12.14->llama-index) (1.0.7)\n",
            "Requirement already satisfied: idna in /usr/local/lib/python3.11/dist-packages (from httpx->llama-index-core<0.13.0,>=0.12.14->llama-index) (3.10)\n",
            "Requirement already satisfied: h11<0.15,>=0.13 in /usr/local/lib/python3.11/dist-packages (from httpcore==1.*->httpx->llama-index-core<0.13.0,>=0.12.14->llama-index) (0.14.0)\n",
            "Requirement already satisfied: distro<2,>=1.7.0 in /usr/local/lib/python3.11/dist-packages (from openai>=1.14.0->llama-index-agent-openai<0.5.0,>=0.4.0->llama-index) (1.9.0)\n",
            "Requirement already satisfied: jiter<1,>=0.4.0 in /usr/local/lib/python3.11/dist-packages (from openai>=1.14.0->llama-index-agent-openai<0.5.0,>=0.4.0->llama-index) (0.8.2)\n",
            "Requirement already satisfied: sniffio in /usr/local/lib/python3.11/dist-packages (from openai>=1.14.0->llama-index-agent-openai<0.5.0,>=0.4.0->llama-index) (1.3.1)\n",
            "Requirement already satisfied: annotated-types>=0.6.0 in /usr/local/lib/python3.11/dist-packages (from pydantic>=2.8.0->llama-index-core<0.13.0,>=0.12.14->llama-index) (0.7.0)\n",
            "Requirement already satisfied: pydantic-core==2.27.2 in /usr/local/lib/python3.11/dist-packages (from pydantic>=2.8.0->llama-index-core<0.13.0,>=0.12.14->llama-index) (2.27.2)\n",
            "Requirement already satisfied: charset-normalizer<4,>=2 in /usr/local/lib/python3.11/dist-packages (from requests>=2.31.0->llama-index-core<0.13.0,>=0.12.14->llama-index) (3.4.1)\n",
            "Requirement already satisfied: urllib3<3,>=1.21.1 in /usr/local/lib/python3.11/dist-packages (from requests>=2.31.0->llama-index-core<0.13.0,>=0.12.14->llama-index) (2.3.0)\n",
            "Requirement already satisfied: greenlet!=0.4.17 in /usr/local/lib/python3.11/dist-packages (from SQLAlchemy>=1.4.49->SQLAlchemy[asyncio]>=1.4.49->llama-index-core<0.13.0,>=0.12.14->llama-index) (3.1.1)\n",
            "Requirement already satisfied: mypy-extensions>=0.3.0 in /usr/local/lib/python3.11/dist-packages (from typing-inspect>=0.8.0->llama-index-core<0.13.0,>=0.12.14->llama-index) (1.0.0)\n",
            "Requirement already satisfied: marshmallow<4.0.0,>=3.18.0 in /usr/local/lib/python3.11/dist-packages (from dataclasses-json->llama-index-core<0.13.0,>=0.12.14->llama-index) (3.26.0)\n",
            "Requirement already satisfied: python-dateutil>=2.8.2 in /usr/local/lib/python3.11/dist-packages (from pandas->llama-index-readers-file<0.5.0,>=0.4.0->llama-index) (2.8.2)\n",
            "Requirement already satisfied: pytz>=2020.1 in /usr/local/lib/python3.11/dist-packages (from pandas->llama-index-readers-file<0.5.0,>=0.4.0->llama-index) (2024.2)\n",
            "Requirement already satisfied: tzdata>=2022.7 in /usr/local/lib/python3.11/dist-packages (from pandas->llama-index-readers-file<0.5.0,>=0.4.0->llama-index) (2025.1)\n",
            "Requirement already satisfied: packaging>=17.0 in /usr/local/lib/python3.11/dist-packages (from marshmallow<4.0.0,>=3.18.0->dataclasses-json->llama-index-core<0.13.0,>=0.12.14->llama-index) (24.2)\n",
            "Requirement already satisfied: six>=1.5 in /usr/local/lib/python3.11/dist-packages (from python-dateutil>=2.8.2->pandas->llama-index-readers-file<0.5.0,>=0.4.0->llama-index) (1.17.0)\n",
            "Downloading llama_index-0.12.14-py3-none-any.whl (6.9 kB)\n",
            "Downloading llama_index_agent_openai-0.4.2-py3-none-any.whl (13 kB)\n",
            "Downloading llama_index_cli-0.4.0-py3-none-any.whl (27 kB)\n",
            "Downloading llama_index_indices_managed_llama_cloud-0.6.4-py3-none-any.whl (13 kB)\n",
            "Downloading llama_index_llms_openai-0.3.14-py3-none-any.whl (14 kB)\n",
            "Downloading llama_index_multi_modal_llms_openai-0.4.2-py3-none-any.whl (5.9 kB)\n",
            "Downloading llama_index_program_openai-0.3.1-py3-none-any.whl (5.3 kB)\n",
            "Downloading llama_index_question_gen_openai-0.3.0-py3-none-any.whl (2.9 kB)\n",
            "Downloading llama_index_readers_file-0.4.4-py3-none-any.whl (39 kB)\n",
            "Downloading llama_index_readers_llama_parse-0.4.0-py3-none-any.whl (2.5 kB)\n",
            "Downloading llama_cloud-0.1.10-py3-none-any.whl (247 kB)\n",
            "\u001b[2K   \u001b[90m━━━━━━━━━━━━━━━━━━━━━━━━━━━━━━━━━━━━━━━━\u001b[0m \u001b[32m248.0/248.0 kB\u001b[0m \u001b[31m13.2 MB/s\u001b[0m eta \u001b[36m0:00:00\u001b[0m\n",
            "\u001b[?25hDownloading llama_parse-0.5.20-py3-none-any.whl (16 kB)\n",
            "Downloading pypdf-5.1.0-py3-none-any.whl (297 kB)\n",
            "\u001b[2K   \u001b[90m━━━━━━━━━━━━━━━━━━━━━━━━━━━━━━━━━━━━━━━━\u001b[0m \u001b[32m298.0/298.0 kB\u001b[0m \u001b[31m19.7 MB/s\u001b[0m eta \u001b[36m0:00:00\u001b[0m\n",
            "\u001b[?25hDownloading striprtf-0.0.26-py3-none-any.whl (6.9 kB)\n",
            "Installing collected packages: striprtf, pypdf, llama-cloud, llama-parse, llama-index-readers-file, llama-index-llms-openai, llama-index-indices-managed-llama-cloud, llama-index-readers-llama-parse, llama-index-multi-modal-llms-openai, llama-index-cli, llama-index-agent-openai, llama-index-program-openai, llama-index-question-gen-openai, llama-index\n",
            "Successfully installed llama-cloud-0.1.10 llama-index-0.12.14 llama-index-agent-openai-0.4.2 llama-index-cli-0.4.0 llama-index-indices-managed-llama-cloud-0.6.4 llama-index-llms-openai-0.3.14 llama-index-multi-modal-llms-openai-0.4.2 llama-index-program-openai-0.3.1 llama-index-question-gen-openai-0.3.0 llama-index-readers-file-0.4.4 llama-index-readers-llama-parse-0.4.0 llama-parse-0.5.20 pypdf-5.1.0 striprtf-0.0.26\n",
            "Requirement already satisfied: anthropic in /usr/local/lib/python3.11/dist-packages (0.45.0)\n",
            "Requirement already satisfied: anyio<5,>=3.5.0 in /usr/local/lib/python3.11/dist-packages (from anthropic) (3.7.1)\n",
            "Requirement already satisfied: distro<2,>=1.7.0 in /usr/local/lib/python3.11/dist-packages (from anthropic) (1.9.0)\n",
            "Requirement already satisfied: httpx<1,>=0.23.0 in /usr/local/lib/python3.11/dist-packages (from anthropic) (0.28.1)\n",
            "Requirement already satisfied: jiter<1,>=0.4.0 in /usr/local/lib/python3.11/dist-packages (from anthropic) (0.8.2)\n",
            "Requirement already satisfied: pydantic<3,>=1.9.0 in /usr/local/lib/python3.11/dist-packages (from anthropic) (2.10.5)\n",
            "Requirement already satisfied: sniffio in /usr/local/lib/python3.11/dist-packages (from anthropic) (1.3.1)\n",
            "Requirement already satisfied: typing-extensions<5,>=4.10 in /usr/local/lib/python3.11/dist-packages (from anthropic) (4.12.2)\n",
            "Requirement already satisfied: idna>=2.8 in /usr/local/lib/python3.11/dist-packages (from anyio<5,>=3.5.0->anthropic) (3.10)\n",
            "Requirement already satisfied: certifi in /usr/local/lib/python3.11/dist-packages (from httpx<1,>=0.23.0->anthropic) (2024.12.14)\n",
            "Requirement already satisfied: httpcore==1.* in /usr/local/lib/python3.11/dist-packages (from httpx<1,>=0.23.0->anthropic) (1.0.7)\n",
            "Requirement already satisfied: h11<0.15,>=0.13 in /usr/local/lib/python3.11/dist-packages (from httpcore==1.*->httpx<1,>=0.23.0->anthropic) (0.14.0)\n",
            "Requirement already satisfied: annotated-types>=0.6.0 in /usr/local/lib/python3.11/dist-packages (from pydantic<3,>=1.9.0->anthropic) (0.7.0)\n",
            "Requirement already satisfied: pydantic-core==2.27.2 in /usr/local/lib/python3.11/dist-packages (from pydantic<3,>=1.9.0->anthropic) (2.27.2)\n",
            "Requirement already satisfied: openai in /usr/local/lib/python3.11/dist-packages (1.59.9)\n",
            "Requirement already satisfied: anyio<5,>=3.5.0 in /usr/local/lib/python3.11/dist-packages (from openai) (3.7.1)\n",
            "Requirement already satisfied: distro<2,>=1.7.0 in /usr/local/lib/python3.11/dist-packages (from openai) (1.9.0)\n",
            "Requirement already satisfied: httpx<1,>=0.23.0 in /usr/local/lib/python3.11/dist-packages (from openai) (0.28.1)\n",
            "Requirement already satisfied: jiter<1,>=0.4.0 in /usr/local/lib/python3.11/dist-packages (from openai) (0.8.2)\n",
            "Requirement already satisfied: pydantic<3,>=1.9.0 in /usr/local/lib/python3.11/dist-packages (from openai) (2.10.5)\n",
            "Requirement already satisfied: sniffio in /usr/local/lib/python3.11/dist-packages (from openai) (1.3.1)\n",
            "Requirement already satisfied: tqdm>4 in /usr/local/lib/python3.11/dist-packages (from openai) (4.67.1)\n",
            "Requirement already satisfied: typing-extensions<5,>=4.11 in /usr/local/lib/python3.11/dist-packages (from openai) (4.12.2)\n",
            "Requirement already satisfied: idna>=2.8 in /usr/local/lib/python3.11/dist-packages (from anyio<5,>=3.5.0->openai) (3.10)\n",
            "Requirement already satisfied: certifi in /usr/local/lib/python3.11/dist-packages (from httpx<1,>=0.23.0->openai) (2024.12.14)\n",
            "Requirement already satisfied: httpcore==1.* in /usr/local/lib/python3.11/dist-packages (from httpx<1,>=0.23.0->openai) (1.0.7)\n",
            "Requirement already satisfied: h11<0.15,>=0.13 in /usr/local/lib/python3.11/dist-packages (from httpcore==1.*->httpx<1,>=0.23.0->openai) (0.14.0)\n",
            "Requirement already satisfied: annotated-types>=0.6.0 in /usr/local/lib/python3.11/dist-packages (from pydantic<3,>=1.9.0->openai) (0.7.0)\n",
            "Requirement already satisfied: pydantic-core==2.27.2 in /usr/local/lib/python3.11/dist-packages (from pydantic<3,>=1.9.0->openai) (2.27.2)\n"
          ]
        }
      ]
    },
    {
      "cell_type": "code",
      "source": [
        " from llama_index.llms.anthropic import Anthropic\n",
        " from llama_index.core.tools import FunctionTool\n",
        " import nest_asyncio\n",
        " nest_asyncio.apply()\n",
        " from google.colab import userdata"
      ],
      "metadata": {
        "id": "lRGGLL8Qm8IF"
      },
      "execution_count": null,
      "outputs": []
    },
    {
      "cell_type": "code",
      "source": [
        "from google.colab import drive\n",
        "drive.mount('/content/drive')"
      ],
      "metadata": {
        "colab": {
          "base_uri": "https://localhost:8080/"
        },
        "id": "olHmOHB3nAhX",
        "outputId": "2bf59b89-a420-44d4-f5f9-113c78b0d11f"
      },
      "execution_count": null,
      "outputs": [
        {
          "output_type": "stream",
          "name": "stdout",
          "text": [
            "Mounted at /content/drive\n"
          ]
        }
      ]
    },
    {
      "cell_type": "code",
      "source": [
        "import json\n",
        "\n",
        "CLAUDE_API_KEY = userdata.get('CLAUDE_API_KEY')\n",
        "OPENAI_API_KEY = userdata.get('OPENAI_API_KEY')\n",
        "LLAMA_CLOUD_API_KEY = userdata.get('LLAMA_CLOUD_API_KEY')\n",
        "\n",
        "import openai\n",
        "openai.api_key = OPENAI_API_KEY\n",
        "\n",
        "print(\"API Keys loaded successfully!\")\n"
      ],
      "metadata": {
        "id": "aZgBV2Ron_Ce",
        "colab": {
          "base_uri": "https://localhost:8080/"
        },
        "outputId": "68337bce-8253-4b88-846b-55e9af888591"
      },
      "execution_count": null,
      "outputs": [
        {
          "output_type": "stream",
          "name": "stdout",
          "text": [
            "API Keys loaded successfully!\n"
          ]
        }
      ]
    },
    {
      "cell_type": "markdown",
      "source": [
        "1.1 Load Documents"
      ],
      "metadata": {
        "id": "mIb3LB7Vv8cU"
      }
    },
    {
      "cell_type": "code",
      "source": [
        "# Path to your API keys file\n",
        "pdf_file = '/content/drive/My Drive/Colab Notebooks/jpm_annualreport-2022_splitted.pdf'"
      ],
      "metadata": {
        "id": "tE0-KDs_v_kR"
      },
      "execution_count": null,
      "outputs": []
    },
    {
      "cell_type": "markdown",
      "source": [
        "2.0 RAG"
      ],
      "metadata": {
        "id": "b3EdI3DszBf4"
      }
    },
    {
      "cell_type": "code",
      "source": [
        "from llama_index.core import VectorStoreIndex, SimpleDirectoryReader\n",
        "from llama_parse import LlamaParse\n",
        "\n",
        "# set up parser\n",
        "parser = LlamaParse(api_key=LLAMA_CLOUD_API_KEY, result_type=\"markdown\")\n",
        "file_extractor = {\".pdf\": parser}\n",
        "documents = SimpleDirectoryReader(input_files=[pdf_file],file_extractor=file_extractor).load_data()\n",
        "# Index the documents in a vectorStore\n",
        "index_jpmorgan = VectorStoreIndex.from_documents(documents)"
      ],
      "metadata": {
        "colab": {
          "base_uri": "https://localhost:8080/"
        },
        "id": "RGeIP5D6zCs9",
        "outputId": "af88d122-ab47-4cd3-deaf-4e5d7effa0f1"
      },
      "execution_count": null,
      "outputs": [
        {
          "output_type": "stream",
          "name": "stdout",
          "text": [
            "WARNING: parsing_instruction is deprecated. Use complemental_formatting_instruction or content_guideline_instruction instead.\n",
            "Started parsing the file under job_id 85bdb66a-3111-409b-b05b-9deb4e368801\n"
          ]
        }
      ]
    },
    {
      "cell_type": "code",
      "source": [
        "len(documents)"
      ],
      "metadata": {
        "colab": {
          "base_uri": "https://localhost:8080/"
        },
        "id": "Yz0gSPC4zaS2",
        "outputId": "4746e3e5-e0f7-43a8-e4c8-7e14336605df"
      },
      "execution_count": null,
      "outputs": [
        {
          "output_type": "execute_result",
          "data": {
            "text/plain": [
              "5"
            ]
          },
          "metadata": {},
          "execution_count": 11
        }
      ]
    },
    {
      "cell_type": "markdown",
      "source": [
        "2.2  Query the Document using GPT-4-Turbo"
      ],
      "metadata": {
        "id": "hwy6N2XQ6sYq"
      }
    },
    {
      "cell_type": "code",
      "source": [
        "from llama_index.llms.openai import OpenAI\n",
        "llm_openai = OpenAI(model=\"gpt-4-turbo\", temperature=0.1)\n",
        "query_engine_jpmorgan = index_jpmorgan.as_query_engine(llm=llm_openai)\n",
        "# query the engine\n",
        "query = \"What was the Net Income in 2020, the Reported one?\"\n",
        "response_jpmorgan = query_engine_jpmorgan.query(query)\n",
        "print(\"*\"*50)\n",
        "\n",
        "print(f\"The answer to the question '''{query}''' is :\\n\")\n",
        "\n",
        "response_jpmorgan.response"
      ],
      "metadata": {
        "colab": {
          "base_uri": "https://localhost:8080/",
          "height": 87
        },
        "id": "7I2ADnVE6tg-",
        "outputId": "73d92bb4-a80a-4d4e-ed03-dbefaa91e1d8"
      },
      "execution_count": null,
      "outputs": [
        {
          "output_type": "stream",
          "name": "stdout",
          "text": [
            "**************************************************\n",
            "The answer to the question '''What was the Net Income in 2020, the Reported one?''' is :\n",
            "\n"
          ]
        },
        {
          "output_type": "execute_result",
          "data": {
            "text/plain": [
              "'The net income for JPMorgan Chase in 2020 was $29,131 million.'"
            ],
            "application/vnd.google.colaboratory.intrinsic+json": {
              "type": "string"
            }
          },
          "metadata": {},
          "execution_count": 17
        }
      ]
    },
    {
      "cell_type": "markdown",
      "source": [
        "3. Build an Anthropic Agent over RAG"
      ],
      "metadata": {
        "id": "l8GjjUzX7RjM"
      }
    },
    {
      "cell_type": "markdown",
      "source": [
        "3.1 RAG Tool"
      ],
      "metadata": {
        "id": "GSa9q0LW7XDH"
      }
    },
    {
      "cell_type": "code",
      "source": [
        "from llama_index.core.tools import QueryEngineTool, ToolMetadata\n",
        "#Create the Query Engine Tool over the RAG pipeline\n",
        "query_engine_tool = QueryEngineTool(\n",
        "  query_engine=query_engine_jpmorgan,\n",
        "  metadata=ToolMetadata(\n",
        "  name=\"jpmorgan_annualreport-2022\",\n",
        "  description=(\n",
        "    \"Provides Annual Report information about JPMorgan for 2022. \"\n",
        "    \"Use a detailed plain text question as input to the tool.\"\n",
        "    ),\n",
        "  ),)"
      ],
      "metadata": {
        "id": "lB6K5dZN7Sxw"
      },
      "execution_count": null,
      "outputs": []
    },
    {
      "cell_type": "markdown",
      "source": [
        " Create the FunctionCallingAgentWorker using the query engine tool and initialize the Anthropic Agent. Here we are using only one tool, which is the one built over the RAG pipeline."
      ],
      "metadata": {
        "id": "Igv7Yha78hxT"
      }
    },
    {
      "cell_type": "code",
      "source": [
        "from llama_index.core.agent import FunctionCallingAgentWorker\n",
        "llm_anthropic = Anthropic(model=\"claude-3-opus-20240229\", api_key=CLAUDE_API_KEY)\n",
        "agent_worker = FunctionCallingAgentWorker.from_tools(\n",
        " [query_engine_tool], llm=llm_anthropic, verbose=True)\n",
        "agent = agent_worker.as_agent()"
      ],
      "metadata": {
        "id": "M9asGz7F8mpo"
      },
      "execution_count": null,
      "outputs": []
    },
    {
      "cell_type": "markdown",
      "source": [
        "3.2 Chat with the Agent"
      ],
      "metadata": {
        "id": "ZQz1_aQugBx5"
      }
    },
    {
      "cell_type": "code",
      "source": [
        "query = \"What was the Net Income in 2020, the Reported one?\"\n",
        "response = agent.chat(query)\n",
        "print(str(response))"
      ],
      "metadata": {
        "colab": {
          "base_uri": "https://localhost:8080/"
        },
        "id": "WxN593jXgD4_",
        "outputId": "e7c1e7bb-89c5-4fc8-8582-ffe895cc2b61"
      },
      "execution_count": null,
      "outputs": [
        {
          "output_type": "stream",
          "name": "stdout",
          "text": [
            "Added user message to memory: What was the Net Income in 2020, the Reported one?\n",
            "=== LLM Response ===\n",
            "<thinking>\n",
            "To answer the question about JPMorgan's Net Income in 2020, the jpmorgan_annualreport-2022 tool seems relevant. It provides information from JPMorgan's 2022 annual report, which likely includes financial data from prior years like 2020.\n",
            "\n",
            "The tool requires an \"input\" parameter with a detailed plain text question. The user's question is already a detailed plain text question asking for a specific financial metric (Net Income) for a specific year (2020). No additional information seems needed to use this tool to attempt to answer the question.\n",
            "</thinking>\n",
            "=== Calling Function ===\n",
            "Calling function: jpmorgan_annualreport-2022 with args: {\"input\": \"What was JPMorgan's reported Net Income in 2020?\"}\n",
            "=== Function Output ===\n",
            "JPMorgan's reported Net Income in 2020 was $29,131 million.\n",
            "=== LLM Response ===\n",
            "Based on the information provided by the jpmorgan_annualreport-2022 tool, JPMorgan's reported Net Income in 2020 was $29,131 million.\n",
            "Based on the information provided by the jpmorgan_annualreport-2022 tool, JPMorgan's reported Net Income in 2020 was $29,131 million.\n"
          ]
        }
      ]
    },
    {
      "cell_type": "code",
      "source": [
        "query = \"What was the evolution of the Net Income from 2020 to 2021, the Reported one?\"\n",
        "response = agent.chat(query)\n",
        "print(str(response))"
      ],
      "metadata": {
        "colab": {
          "base_uri": "https://localhost:8080/"
        },
        "id": "U1r8dpvkgN9c",
        "outputId": "fb7e9c00-9089-40bc-9ea8-69be0693a5cd"
      },
      "execution_count": null,
      "outputs": [
        {
          "output_type": "stream",
          "name": "stdout",
          "text": [
            "Added user message to memory: What was the evolution of the Net Income from 2020 to 2021, the Reported one?\n",
            "=== LLM Response ===\n",
            "<thinking>\n",
            "To answer the question about the evolution of JPMorgan's reported Net Income from 2020 to 2021, the jpmorgan_annualreport-2022 tool remains relevant. It should contain the Net Income figures for both 2020 and 2021 to allow calculating the change between those two years.\n",
            "\n",
            "The tool requires a detailed plain text question as input. To get the necessary information, I will ask for the Net Income values for each year separately. By having both the 2020 and 2021 Net Income numbers, I can then calculate how the Net Income evolved over that period.\n",
            "</thinking>\n",
            "=== Calling Function ===\n",
            "Calling function: jpmorgan_annualreport-2022 with args: {\"input\": \"What was JPMorgan's reported Net Income in 2020?\"}\n",
            "=== Function Output ===\n",
            "JPMorgan's reported Net Income in 2020 was $29,131 million.\n",
            "=== Calling Function ===\n",
            "Calling function: jpmorgan_annualreport-2022 with args: {\"input\": \"What was JPMorgan's reported Net Income in 2021?\"}\n",
            "=== Function Output ===\n",
            "JPMorgan's reported Net Income in 2021 was $48,334 million.\n",
            "=== LLM Response ===\n",
            "Based on the information provided by the jpmorgan_annualreport-2022 tool:\n",
            "\n",
            "JPMorgan's reported Net Income in 2020 was $29,131 million.\n",
            "JPMorgan's reported Net Income in 2021 was $48,334 million.\n",
            "\n",
            "To calculate the evolution of Net Income from 2020 to 2021:\n",
            "\n",
            "Net Income change = 2021 Net Income - 2020 Net Income\n",
            "                  = $48,334 million - $29,131 million\n",
            "                  = $19,203 million increase\n",
            "\n",
            "In percentage terms:\n",
            "Percent change = (2021 Net Income - 2020 Net Income) / 2020 Net Income * 100\n",
            "               = ($48,334 million - $29,131 million) / $29,131 million * 100\n",
            "               = 66.0% increase\n",
            "\n",
            "Therefore, JPMorgan's reported Net Income increased by $19,203 million or 66.0% from 2020 to 2021.\n",
            "Based on the information provided by the jpmorgan_annualreport-2022 tool:\n",
            "\n",
            "JPMorgan's reported Net Income in 2020 was $29,131 million.\n",
            "JPMorgan's reported Net Income in 2021 was $48,334 million.\n",
            "\n",
            "To calculate the evolution of Net Income from 2020 to 2021:\n",
            "\n",
            "Net Income change = 2021 Net Income - 2020 Net Income\n",
            "                  = $48,334 million - $29,131 million\n",
            "                  = $19,203 million increase\n",
            "\n",
            "In percentage terms:\n",
            "Percent change = (2021 Net Income - 2020 Net Income) / 2020 Net Income * 100\n",
            "               = ($48,334 million - $29,131 million) / $29,131 million * 100\n",
            "               = 66.0% increase\n",
            "\n",
            "Therefore, JPMorgan's reported Net Income increased by $19,203 million or 66.0% from 2020 to 2021.\n"
          ]
        }
      ]
    },
    {
      "cell_type": "code",
      "source": [
        "query = \"What was the evolution in term of percentage of the Net Income from 2020 to 2021, the Reported one?\"\n",
        "response = agent.chat(query)\n",
        "print(str(response))"
      ],
      "metadata": {
        "colab": {
          "base_uri": "https://localhost:8080/"
        },
        "id": "9apBb_qpgu-g",
        "outputId": "63b58d82-1145-4fea-ddbb-4d0e16b6ee0e"
      },
      "execution_count": null,
      "outputs": [
        {
          "output_type": "stream",
          "name": "stdout",
          "text": [
            "Added user message to memory: What was the evolution in term of percentage of the Net Income from 2020 to 2021, the Reported one?\n",
            "=== LLM Response ===\n",
            "<thinking>\n",
            "The previous response already calculated the percentage change in JPMorgan's reported Net Income from 2020 to 2021. The necessary Net Income values for 2020 and 2021 were obtained using the jpmorgan_annualreport-2022 tool.\n",
            "\n",
            "2020 Net Income: $29,131 million\n",
            "2021 Net Income: $48,334 million\n",
            "\n",
            "The percentage change calculation was:\n",
            "\n",
            "Percent change = (2021 Net Income - 2020 Net Income) / 2020 Net Income * 100\n",
            "               = ($48,334 million - $29,131 million) / $29,131 million * 100\n",
            "               = 66.0% increase\n",
            "\n",
            "Since the percentage evolution has already been determined using the data from the tool, no additional information or calculations are needed to answer this question.\n",
            "</thinking>\n",
            "\n",
            "Based on the Net Income data provided by the jpmorgan_annualreport-2022 tool, JPMorgan's reported Net Income increased by 66.0% from 2020 to 2021.\n",
            "<thinking>\n",
            "The previous response already calculated the percentage change in JPMorgan's reported Net Income from 2020 to 2021. The necessary Net Income values for 2020 and 2021 were obtained using the jpmorgan_annualreport-2022 tool.\n",
            "\n",
            "2020 Net Income: $29,131 million\n",
            "2021 Net Income: $48,334 million\n",
            "\n",
            "The percentage change calculation was:\n",
            "\n",
            "Percent change = (2021 Net Income - 2020 Net Income) / 2020 Net Income * 100\n",
            "               = ($48,334 million - $29,131 million) / $29,131 million * 100\n",
            "               = 66.0% increase\n",
            "\n",
            "Since the percentage evolution has already been determined using the data from the tool, no additional information or calculations are needed to answer this question.\n",
            "</thinking>\n",
            "\n",
            "Based on the Net Income data provided by the jpmorgan_annualreport-2022 tool, JPMorgan's reported Net Income increased by 66.0% from 2020 to 2021.\n"
          ]
        }
      ]
    },
    {
      "cell_type": "markdown",
      "source": [
        "3.3 Add another tool to the agent"
      ],
      "metadata": {
        "id": "JaxOPdfQhW5I"
      }
    },
    {
      "cell_type": "code",
      "source": [
        "def evolution(a: float, b: float)-> float:\n",
        " \"\"\"Evolution in percentage from value b to value a\"\"\"\n",
        " return f\"{round(100*(a/b-1),0)}%\"\n",
        "evolution_tool = FunctionTool.from_defaults(fn=evolution)"
      ],
      "metadata": {
        "id": "_-a3y31ihZLO"
      },
      "execution_count": null,
      "outputs": []
    },
    {
      "cell_type": "code",
      "source": [
        " def cagr(a: float, b: float, n: int)-> float:\n",
        "  \"\"\"Compound annual growth rate CAGR from value b to value a over n period\"\"\"\n",
        "  return f\"{round(100*((a/b)^(1/n)-1),0)}%\"\n",
        "cagr_tool = FunctionTool.from_defaults(fn=cagr)"
      ],
      "metadata": {
        "id": "26Fa8d3nhwhQ"
      },
      "execution_count": null,
      "outputs": []
    },
    {
      "cell_type": "code",
      "source": [
        "def price_earning_ratio(price: float, eps: float)-> float:\n",
        " \"\"\"Price per earning ratio is a ratio of the share price devided by the␣ earning per share(EPS) value\"\"\"\n",
        " return price/eps\n",
        "pe_tool = FunctionTool.from_defaults(fn=price_earning_ratio)"
      ],
      "metadata": {
        "id": "0e-CUBPih3qi"
      },
      "execution_count": null,
      "outputs": []
    },
    {
      "cell_type": "markdown",
      "source": [
        "3.4 Update the agent with the second tool"
      ],
      "metadata": {
        "id": "_pBr08TZiE9U"
      }
    },
    {
      "cell_type": "code",
      "source": [
        "agent_worker2 = FunctionCallingAgentWorker.from_tools(\n",
        " [query_engine_tool, evolution_tool], llm=llm_anthropic, verbose=True)\n",
        "agent2 = agent_worker2.as_agent()\n",
        "query = \"What was the evolution of the Net Income from 2020 to 2021, the Reported one?\"\n",
        "response = agent2.chat(query)\n",
        "print(str(response))"
      ],
      "metadata": {
        "colab": {
          "base_uri": "https://localhost:8080/"
        },
        "id": "7MiVHxFIiH71",
        "outputId": "a3b3889e-e6e1-48c9-e7b1-9618b061c054"
      },
      "execution_count": null,
      "outputs": [
        {
          "output_type": "stream",
          "name": "stdout",
          "text": [
            "Added user message to memory: What was the evolution of the Net Income from 2020 to 2021, the Reported one?\n",
            "=== LLM Response ===\n",
            "<thinking>\n",
            "To calculate the evolution of JPMorgan's Net Income from 2020 to 2021, I will need the Net Income values for those two years. \n",
            "\n",
            "The jpmorgan_annualreport-2022 tool can likely provide the Net Income information, but I need to ask it a clear question to get the specific values I need.\n",
            "\n",
            "Once I have the 2020 and 2021 Net Income numbers, I can pass them to the evolution tool to calculate the percentage change between the two years.\n",
            "</thinking>\n",
            "=== Calling Function ===\n",
            "Calling function: jpmorgan_annualreport-2022 with args: {\"input\": \"What was JPMorgan's reported Net Income in 2020 and 2021?\"}\n",
            "=== Function Output ===\n",
            "JPMorgan's reported net income for 2020 was $29,131 million and for 2021 it was $48,334 million.\n",
            "=== LLM Response ===\n",
            "<thinking>\n",
            "The jpmorgan_annualreport-2022 tool provided the Net Income values I needed:\n",
            "2020: $29,131 million \n",
            "2021: $48,334 million\n",
            "\n",
            "I now have the two parameters required to calculate the evolution percentage using the evolution tool.\n",
            "</thinking>\n",
            "=== Calling Function ===\n",
            "Calling function: evolution with args: {\"a\": 48334, \"b\": 29131}\n",
            "=== Function Output ===\n",
            "66.0%\n",
            "=== LLM Response ===\n",
            "<result>\n",
            "JPMorgan's reported Net Income evolved from $29,131 million in 2020 to $48,334 million in 2021, an increase of 66.0%.\n",
            "</result>\n",
            "<result>\n",
            "JPMorgan's reported Net Income evolved from $29,131 million in 2020 to $48,334 million in 2021, an increase of 66.0%.\n",
            "</result>\n"
          ]
        }
      ]
    },
    {
      "cell_type": "code",
      "source": [
        "query = \"What was the evolution of the Net Income from 2021 to 2022, the Reported one?\"\n",
        "response = agent2.chat(query)\n",
        "print(str(response))"
      ],
      "metadata": {
        "colab": {
          "base_uri": "https://localhost:8080/"
        },
        "id": "yljphyGsiTae",
        "outputId": "106fe4e8-e10a-4927-bd05-e9eee1a94ac9"
      },
      "execution_count": null,
      "outputs": [
        {
          "output_type": "stream",
          "name": "stdout",
          "text": [
            "Added user message to memory: What was the evolution of the Net Income from 2021 to 2022, the Reported one?\n",
            "=== LLM Response ===\n",
            "<thinking>\n",
            "To calculate the evolution of JPMorgan's Net Income from 2021 to 2022, I will need the Net Income values for those two years.\n",
            "\n",
            "I already have the 2021 Net Income value of $48,334 million from the previous query. \n",
            "\n",
            "The jpmorgan_annualreport-2022 tool can provide the 2022 Net Income information. I will ask it a targeted question to get that specific value.\n",
            "\n",
            "Once I have the 2022 Net Income number, I can pass it along with the 2021 value to the evolution tool to calculate the percentage change between the two years.\n",
            "</thinking>\n",
            "=== Calling Function ===\n",
            "Calling function: jpmorgan_annualreport-2022 with args: {\"input\": \"What was JPMorgan's reported Net Income in 2022?\"}\n",
            "=== Function Output ===\n",
            "JPMorgan's reported Net Income in 2022 was $37.7 billion.\n",
            "=== LLM Response ===\n",
            "<thinking>\n",
            "The jpmorgan_annualreport-2022 tool provided the 2022 Net Income value of $37.7 billion, which is $37,700 million.\n",
            "\n",
            "I now have the two parameters required to calculate the evolution percentage from 2021 to 2022 using the evolution tool:\n",
            "\n",
            "2021: $48,334 million\n",
            "2022: $37,700 million\n",
            "</thinking>\n",
            "=== Calling Function ===\n",
            "Calling function: evolution with args: {\"a\": 37700, \"b\": 48334}\n",
            "=== Function Output ===\n",
            "-22.0%\n",
            "=== LLM Response ===\n",
            "<result>\n",
            "JPMorgan's reported Net Income decreased from $48,334 million in 2021 to $37,700 million in 2022, a decline of 22.0%.\n",
            "</result>\n",
            "<result>\n",
            "JPMorgan's reported Net Income decreased from $48,334 million in 2021 to $37,700 million in 2022, a decline of 22.0%.\n",
            "</result>\n"
          ]
        }
      ]
    },
    {
      "cell_type": "code",
      "source": [
        "query = \"Compare the evolution of the Net Income between 2020 to 2021 and 2021 to 2022, the Reported one.\"\n",
        "response = agent2.chat(query)\n",
        "print(str(response))"
      ],
      "metadata": {
        "colab": {
          "base_uri": "https://localhost:8080/"
        },
        "id": "xqqjK6EbjEJT",
        "outputId": "0ed75b67-ee7b-4a1d-c561-8dae868c341c"
      },
      "execution_count": null,
      "outputs": [
        {
          "output_type": "stream",
          "name": "stdout",
          "text": [
            "Added user message to memory: Compare the evolution of the Net Income between 2020 to 2021 and 2021 to 2022, the Reported one.\n",
            "=== LLM Response ===\n",
            "<thinking>\n",
            "To compare the evolution of JPMorgan's reported Net Income between the periods 2020 to 2021 and 2021 to 2022, I will use the Net Income values and evolution percentages calculated in the previous two queries.\n",
            "\n",
            "From 2020 to 2021:\n",
            "2020 Net Income: $29,131 million\n",
            "2021 Net Income: $48,334 million \n",
            "Evolution: 66.0% increase\n",
            "\n",
            "From 2021 to 2022:\n",
            "2021 Net Income: $48,334 million\n",
            "2022 Net Income: $37,700 million\n",
            "Evolution: 22.0% decrease\n",
            "\n",
            "I can compare the two evolution percentages to highlight the significant difference in Net Income growth between the two periods. The first period saw strong growth while the second period experienced a notable decline.\n",
            "</thinking>\n",
            "\n",
            "<result>\n",
            "There is a stark contrast in the evolution of JPMorgan's reported Net Income between the periods 2020 to 2021 and 2021 to 2022:\n",
            "\n",
            "From 2020 to 2021, Net Income grew very strongly by 66.0%, increasing from $29,131 million to $48,334 million. \n",
            "\n",
            "However, from 2021 to 2022, Net Income reversed course and declined significantly by 22.0%, falling from $48,334 million to $37,700 million.\n",
            "\n",
            "So after experiencing robust growth in 2021 vs 2020, JPMorgan's Net Income gave back some of those gains in 2022, highlighting the challenging and volatile operating environment. The Net Income evolution swung from a 66% increase to a 22% decrease between the two periods.\n",
            "</result>\n",
            "<thinking>\n",
            "To compare the evolution of JPMorgan's reported Net Income between the periods 2020 to 2021 and 2021 to 2022, I will use the Net Income values and evolution percentages calculated in the previous two queries.\n",
            "\n",
            "From 2020 to 2021:\n",
            "2020 Net Income: $29,131 million\n",
            "2021 Net Income: $48,334 million \n",
            "Evolution: 66.0% increase\n",
            "\n",
            "From 2021 to 2022:\n",
            "2021 Net Income: $48,334 million\n",
            "2022 Net Income: $37,700 million\n",
            "Evolution: 22.0% decrease\n",
            "\n",
            "I can compare the two evolution percentages to highlight the significant difference in Net Income growth between the two periods. The first period saw strong growth while the second period experienced a notable decline.\n",
            "</thinking>\n",
            "\n",
            "<result>\n",
            "There is a stark contrast in the evolution of JPMorgan's reported Net Income between the periods 2020 to 2021 and 2021 to 2022:\n",
            "\n",
            "From 2020 to 2021, Net Income grew very strongly by 66.0%, increasing from $29,131 million to $48,334 million. \n",
            "\n",
            "However, from 2021 to 2022, Net Income reversed course and declined significantly by 22.0%, falling from $48,334 million to $37,700 million.\n",
            "\n",
            "So after experiencing robust growth in 2021 vs 2020, JPMorgan's Net Income gave back some of those gains in 2022, highlighting the challenging and volatile operating environment. The Net Income evolution swung from a 66% increase to a 22% decrease between the two periods.\n",
            "</result>\n"
          ]
        }
      ]
    },
    {
      "cell_type": "code",
      "source": [
        "agent_worker3 = FunctionCallingAgentWorker.from_tools(\n",
        " [query_engine_tool, evolution_tool, cagr_tool], llm=llm_anthropic, verbose=True)\n",
        "agent3 = agent_worker3.as_agent()\n",
        "query = \"What was the compound annual growth of the Net Income from 2020 to 2022, the Reported one?\"\n",
        "response = agent3.chat(query)\n",
        "print(str(response))"
      ],
      "metadata": {
        "colab": {
          "base_uri": "https://localhost:8080/"
        },
        "id": "885LfMeDjRlQ",
        "outputId": "9b85e20d-6130-4ffc-e0ef-98b9a45cc31d"
      },
      "execution_count": null,
      "outputs": [
        {
          "output_type": "stream",
          "name": "stdout",
          "text": [
            "Added user message to memory: What was the compound annual growth of the Net Income from 2020 to 2022, the Reported one?\n",
            "=== LLM Response ===\n",
            "<thinking>\n",
            "To calculate the compound annual growth rate (CAGR) of JPMorgan's Net Income from 2020 to 2022, I will need 3 pieces of information:\n",
            "\n",
            "1. Net Income value in 2022 (a)\n",
            "2. Net Income value in 2020 (b) \n",
            "3. Number of years between 2020 and 2022 (n)\n",
            "\n",
            "I can use the jpmorgan_annualreport-2022 tool to try to find the Net Income values for 2022 and 2020. The number of years is simply 2022 - 2020 = 2.\n",
            "\n",
            "So the plan is:\n",
            "1. Use jpmorgan_annualreport-2022 to find 2022 Net Income \n",
            "2. Use jpmorgan_annualreport-2022 to find 2020 Net Income\n",
            "3. Calculate CAGR using the cagr tool with the Net Income values and n=2\n",
            "</thinking>\n",
            "=== Calling Function ===\n",
            "Calling function: jpmorgan_annualreport-2022 with args: {\"input\": \"What was JPMorgan's reported Net Income in 2022?\"}\n",
            "=== Function Output ===\n",
            "JPMorgan's reported Net Income in 2022 was $37.7 billion.\n",
            "=== Calling Function ===\n",
            "Calling function: jpmorgan_annualreport-2022 with args: {\"input\": \"What was JPMorgan's reported Net Income in 2020?\"}\n",
            "=== Function Output ===\n",
            "JPMorgan's reported Net Income in 2020 was $29,131 million.\n",
            "=== Calling Function ===\n",
            "Calling function: cagr with args: {\"a\": 37700, \"b\": 29131, \"n\": 2}\n",
            "=== Function Output ===\n",
            "Encountered error: unsupported operand type(s) for ^: 'float' and 'float'\n",
            "=== LLM Response ===\n",
            "Oops, looks like there was an error calculating the CAGR. Let me try again:\n",
            "=== Calling Function ===\n",
            "Calling function: cagr with args: {\"a\": 37700, \"b\": 29131, \"n\": 2}\n",
            "=== Function Output ===\n",
            "Encountered error: unsupported operand type(s) for ^: 'float' and 'float'\n",
            "=== LLM Response ===\n",
            "Hmm, still getting an error. The CAGR tool seems to be having an issue. Let me calculate it manually:\n",
            "\n",
            "The CAGR formula is:\n",
            "CAGR = (Ending Value / Beginning Value)^(1/n) - 1\n",
            "\n",
            "Plugging in the values:\n",
            "CAGR = (37700 / 29131)^(1/2) - 1\n",
            "        = 1.2952^0.5 - 1\n",
            "        = 1.1380 - 1\n",
            "        = 0.1380\n",
            "        = 13.80%\n",
            "\n",
            "Therefore, the compound annual growth rate of JPMorgan's reported Net Income from 2020 to 2022 was 13.80%.\n",
            "Hmm, still getting an error. The CAGR tool seems to be having an issue. Let me calculate it manually:\n",
            "\n",
            "The CAGR formula is:\n",
            "CAGR = (Ending Value / Beginning Value)^(1/n) - 1\n",
            "\n",
            "Plugging in the values:\n",
            "CAGR = (37700 / 29131)^(1/2) - 1\n",
            "        = 1.2952^0.5 - 1\n",
            "        = 1.1380 - 1\n",
            "        = 0.1380\n",
            "        = 13.80%\n",
            "\n",
            "Therefore, the compound annual growth rate of JPMorgan's reported Net Income from 2020 to 2022 was 13.80%.\n"
          ]
        }
      ]
    },
    {
      "cell_type": "code",
      "source": [
        "agent_worker3 = FunctionCallingAgentWorker.from_tools(\n",
        " [query_engine_tool, evolution_tool, cagr_tool, pe_tool], llm=llm_anthropic, verbose=True)\n",
        "agent3 = agent_worker3.as_agent()\n",
        "query = \"knowning that the price of JPMorgan in 2022 was $134.10 and given the financial report, what was the price/earning ratio?\"\n",
        "response = agent3.chat(query)\n",
        "print(str(response))"
      ],
      "metadata": {
        "colab": {
          "base_uri": "https://localhost:8080/"
        },
        "id": "zju7kcjfjud5",
        "outputId": "e0724b6b-19fb-4240-8ed7-2f22ee2db940"
      },
      "execution_count": null,
      "outputs": [
        {
          "output_type": "stream",
          "name": "stdout",
          "text": [
            "Added user message to memory: knowning that the price of JPMorang in 2022 was $134.10 and given the financial report, what was the price/earning ratio?\n",
            "=== LLM Response ===\n",
            "<thinking>\n",
            "To calculate the price/earning ratio, we need two pieces of information:\n",
            "1. The price of JPMorgan stock in 2022, which is provided as $134.10\n",
            "2. The earnings per share (EPS) for JPMorgan in 2022, which is not directly provided but can likely be found in the 2022 annual report\n",
            "\n",
            "The relevant tool to get the EPS value seems to be:\n",
            "jpmorgan_annualreport-2022\n",
            "\n",
            "This tool takes a plain text question as input. To get the EPS, we can ask it something like \"What was JPMorgan's diluted earnings per share for 2022?\"\n",
            "\n",
            "Once we have the EPS value, we can then use the price_earning_ratio tool, providing the given price of $134.10 and the EPS value from the annual report.\n",
            "\n",
            "So the plan is:\n",
            "1. Call jpmorgan_annualreport-2022 to get the 2022 EPS \n",
            "2. Call price_earning_ratio with the $134.10 price and EPS from step 1\n",
            "</thinking>\n",
            "=== Calling Function ===\n",
            "Calling function: jpmorgan_annualreport-2022 with args: {\"input\": \"What was JPMorgan's diluted earnings per share for 2022?\"}\n",
            "=== Function Output ===\n",
            "JPMorgan's diluted earnings per share for 2022 was $12.09.\n",
            "=== Calling Function ===\n",
            "Calling function: price_earning_ratio with args: {\"price\": 134.1, \"eps\": 12.09}\n",
            "=== Function Output ===\n",
            "11.09181141439206\n",
            "=== LLM Response ===\n",
            "Based on the information from JPMorgan's 2022 annual report, the diluted earnings per share (EPS) for 2022 was $12.09. \n",
            "\n",
            "Using the provided stock price of $134.10 and the EPS of $12.09, the price/earning ratio can be calculated as:\n",
            "\n",
            "Price/Earning Ratio = $134.10 / $12.09 = 11.09\n",
            "\n",
            "Therefore, JPMorgan's price/earning ratio for 2022 was approximately 11.09.\n",
            "Based on the information from JPMorgan's 2022 annual report, the diluted earnings per share (EPS) for 2022 was $12.09. \n",
            "\n",
            "Using the provided stock price of $134.10 and the EPS of $12.09, the price/earning ratio can be calculated as:\n",
            "\n",
            "Price/Earning Ratio = $134.10 / $12.09 = 11.09\n",
            "\n",
            "Therefore, JPMorgan's price/earning ratio for 2022 was approximately 11.09.\n"
          ]
        }
      ]
    },
    {
      "cell_type": "code",
      "source": [],
      "metadata": {
        "id": "2kPEhv-TkdOA"
      },
      "execution_count": null,
      "outputs": []
    }
  ]
}